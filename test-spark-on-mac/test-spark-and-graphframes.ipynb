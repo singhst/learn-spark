{
 "cells": [
  {
   "cell_type": "markdown",
   "id": "017d9939",
   "metadata": {},
   "source": [
    "Setup"
   ]
  },
  {
   "cell_type": "code",
   "execution_count": null,
   "id": "5927df9a",
   "metadata": {},
   "outputs": [],
   "source": [
    "from pyspark import SparkContext\n",
    "from pyspark.sql import SparkSession\n",
    "from pyspark.sql.functions import *\n",
    "\n",
    "spark = SparkSession.builder.getOrCreate()\n",
    "spark"
   ]
  },
  {
   "cell_type": "markdown",
   "id": "644b41be",
   "metadata": {},
   "source": [
    "Follow MSc instructions"
   ]
  },
  {
   "cell_type": "code",
   "execution_count": 1,
   "id": "0f678b74",
   "metadata": {
    "ExecuteTime": {
     "end_time": "2021-09-09T17:40:06.293858Z",
     "start_time": "2021-09-09T17:40:06.247974Z"
    }
   },
   "outputs": [],
   "source": [
    "path_to_the_jar_file = 'graphframes-0.8.1-spark3.0-s_2.12.jar'\n",
    "sc.addPyFile(path_to_the_jar_file)\n"
   ]
  },
  {
   "cell_type": "code",
   "execution_count": 2,
   "id": "becc2618",
   "metadata": {
    "ExecuteTime": {
     "end_time": "2021-09-09T17:40:18.424475Z",
     "start_time": "2021-09-09T17:40:08.190376Z"
    }
   },
   "outputs": [
    {
     "name": "stdout",
     "output_type": "stream",
     "text": [
      "+---+--------+\n",
      "| id|inDegree|\n",
      "+---+--------+\n",
      "|  b|       1|\n",
      "+---+--------+\n",
      "\n"
     ]
    }
   ],
   "source": [
    "from pyspark.sql import SQLContext \n",
    "sqlContext = SQLContext(sc) \n",
    "v = sqlContext.createDataFrame([(\"a\", ),(\"b\", ),], [\"id\", ]) \n",
    "e = sqlContext.createDataFrame([(\"a\", \"b\"),], [\"src\", \"dst\"]) \n",
    "from graphframes import * \n",
    "g = GraphFrame(v, e) \n",
    "g.inDegrees.show()"
   ]
  },
  {
   "cell_type": "markdown",
   "id": "f5acac40",
   "metadata": {},
   "source": [
    "Spark with Jupyter Notebook on MacOS (2.0.0 and higher)\n",
    "\n",
    "https://medium.com/@roshinijohri/spark-with-jupyter-notebook-on-macos-2-0-0-and-higher-c61b971b5007"
   ]
  },
  {
   "cell_type": "code",
   "execution_count": 3,
   "id": "2f6aa1ff",
   "metadata": {
    "ExecuteTime": {
     "end_time": "2021-09-09T17:42:38.373104Z",
     "start_time": "2021-09-09T17:42:37.802422Z"
    }
   },
   "outputs": [
    {
     "name": "stdout",
     "output_type": "stream",
     "text": [
      "+---+----+----+\n",
      "| id|dogs|cats|\n",
      "+---+----+----+\n",
      "|  1|   2|   0|\n",
      "|  2|   0|   1|\n",
      "+---+----+----+\n",
      "\n"
     ]
    }
   ],
   "source": [
    "import pyspark\n",
    "from pyspark.sql.session import SparkSession\n",
    "spark = SparkSession.builder.appName(\"spark test\").getOrCreate()\n",
    "columns = ['id', 'dogs', 'cats']\n",
    "vals = [\n",
    "     (1, 2, 0),\n",
    "     (2, 0, 1)\n",
    "]\n",
    "# create DataFrame\n",
    "df = spark.createDataFrame(vals, columns)\n",
    "df.show()"
   ]
  },
  {
   "cell_type": "code",
   "execution_count": null,
   "id": "1ee3e437",
   "metadata": {},
   "outputs": [],
   "source": []
  }
 ],
 "metadata": {
  "kernelspec": {
   "display_name": "Python 3",
   "language": "python",
   "name": "python3"
  },
  "language_info": {
   "codemirror_mode": {
    "name": "ipython",
    "version": 3
   },
   "file_extension": ".py",
   "mimetype": "text/x-python",
   "name": "python",
   "nbconvert_exporter": "python",
   "pygments_lexer": "ipython3",
   "version": "3.8.8"
  },
  "toc": {
   "base_numbering": 1,
   "nav_menu": {},
   "number_sections": true,
   "sideBar": true,
   "skip_h1_title": false,
   "title_cell": "Table of Contents",
   "title_sidebar": "Contents",
   "toc_cell": false,
   "toc_position": {},
   "toc_section_display": true,
   "toc_window_display": true
  },
  "varInspector": {
   "cols": {
    "lenName": 16,
    "lenType": 16,
    "lenVar": 40
   },
   "kernels_config": {
    "python": {
     "delete_cmd_postfix": "",
     "delete_cmd_prefix": "del ",
     "library": "var_list.py",
     "varRefreshCmd": "print(var_dic_list())"
    },
    "r": {
     "delete_cmd_postfix": ") ",
     "delete_cmd_prefix": "rm(",
     "library": "var_list.r",
     "varRefreshCmd": "cat(var_dic_list()) "
    }
   },
   "types_to_exclude": [
    "module",
    "function",
    "builtin_function_or_method",
    "instance",
    "_Feature"
   ],
   "window_display": false
  }
 },
 "nbformat": 4,
 "nbformat_minor": 5
}
